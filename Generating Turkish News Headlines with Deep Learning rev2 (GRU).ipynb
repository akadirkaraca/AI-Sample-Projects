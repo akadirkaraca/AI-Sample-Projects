{
  "nbformat": 4,
  "nbformat_minor": 0,
  "metadata": {
    "colab": {
      "provenance": [],
      "machine_shape": "hm"
    },
    "kernelspec": {
      "display_name": "Python 3",
      "name": "python3"
    },
    "gpuClass": "standard",
    "accelerator": "GPU"
  },
  "cells": [
    {
      "cell_type": "code",
      "source": [
        "# !pip install tensorflow==2.4.1\n",
        "# !pip install keras==2.3.1"
      ],
      "metadata": {
        "id": "AMqZOPc-jeVh"
      },
      "execution_count": null,
      "outputs": []
    },
    {
      "cell_type": "code",
      "metadata": {
        "id": "ehcXYp_cCgOe"
      },
      "source": [
        "import os\n",
        "import sys\n",
        "import tensorflow as tf\n",
        "import keras\n",
        "import numpy as np\n",
        "import pandas as pd\n",
        "import re\n",
        "import time\n",
        "import datetime\n",
        "import nltk\n",
        "\n",
        "from nltk.corpus import stopwords\n",
        "import matplotlib.pyplot as plt\n",
        "from sklearn.model_selection import train_test_split\n",
        "from tensorflow.python.keras.layers import Input, Dense, GRU, Embedding, CuDNNGRU\n",
        "from tensorflow.keras.models import Model\n",
        "from tensorflow.python.keras.callbacks import ModelCheckpoint\n",
        "from keras.preprocessing.text import Tokenizer\n",
        "from keras.preprocessing.sequence import pad_sequences\n",
        "from tensorflow.python.training import training\n",
        "from tensorflow.python.client import device_lib\n",
        "from google.colab import drive\n",
        "from google.colab import files\n",
        "from tqdm import tqdm"
      ],
      "execution_count": null,
      "outputs": []
    },
    {
      "cell_type": "code",
      "metadata": {
        "id": "_Fr3q1sXUSOG",
        "colab": {
          "base_uri": "https://localhost:8080/"
        },
        "outputId": "3d152f4c-e3e6-4e8a-d3ba-1ecf452171f2"
      },
      "source": [
        "try:\n",
        "  drive.mount('/content/drive')\n",
        "  os.chdir(\"drive/My Drive/GoogleColab/\")\n",
        "  print('Dosya dizini belirtilen konuma ayarlandı.')\n",
        "except:\n",
        "  print('Dosya dizini belirtilen konumda...')"
      ],
      "execution_count": null,
      "outputs": [
        {
          "output_type": "stream",
          "name": "stdout",
          "text": [
            "Drive already mounted at /content/drive; to attempt to forcibly remount, call drive.mount(\"/content/drive\", force_remount=True).\n",
            "Dosya dizini belirtilen konuma ayarlandı.\n"
          ]
        }
      ]
    },
    {
      "cell_type": "code",
      "source": [
        "gpu_info = !nvidia-smi\n",
        "gpu_info = '\\n'.join(gpu_info)\n",
        "if gpu_info.find('failed') >= 0:\n",
        "  print('Not connected to a GPU')\n",
        "else:\n",
        "  print(gpu_info)"
      ],
      "metadata": {
        "id": "Q2NJq_XXGbla",
        "colab": {
          "base_uri": "https://localhost:8080/"
        },
        "outputId": "2fb54e4d-bfd2-48d6-b3a9-b5ef310a5ac6"
      },
      "execution_count": null,
      "outputs": [
        {
          "output_type": "stream",
          "name": "stdout",
          "text": [
            "Tue Jul 12 16:57:13 2022       \n",
            "+-----------------------------------------------------------------------------+\n",
            "| NVIDIA-SMI 460.32.03    Driver Version: 460.32.03    CUDA Version: 11.2     |\n",
            "|-------------------------------+----------------------+----------------------+\n",
            "| GPU  Name        Persistence-M| Bus-Id        Disp.A | Volatile Uncorr. ECC |\n",
            "| Fan  Temp  Perf  Pwr:Usage/Cap|         Memory-Usage | GPU-Util  Compute M. |\n",
            "|                               |                      |               MIG M. |\n",
            "|===============================+======================+======================|\n",
            "|   0  Tesla P100-PCIE...  Off  | 00000000:00:04.0 Off |                    0 |\n",
            "| N/A   40C    P0    27W / 250W |      0MiB / 16280MiB |      0%      Default |\n",
            "|                               |                      |                  N/A |\n",
            "+-------------------------------+----------------------+----------------------+\n",
            "                                                                               \n",
            "+-----------------------------------------------------------------------------+\n",
            "| Processes:                                                                  |\n",
            "|  GPU   GI   CI        PID   Type   Process name                  GPU Memory |\n",
            "|        ID   ID                                                   Usage      |\n",
            "|=============================================================================|\n",
            "|  No running processes found                                                 |\n",
            "+-----------------------------------------------------------------------------+\n"
          ]
        }
      ]
    },
    {
      "cell_type": "code",
      "source": [
        "from psutil import virtual_memory\n",
        "ram_gb = virtual_memory().total / 1e9\n",
        "print('Your runtime has {:.1f} gigabytes of available RAM\\n'.format(ram_gb))\n",
        "\n",
        "if ram_gb < 20:\n",
        "  print('Not using a high-RAM runtime')\n",
        "else:\n",
        "  print('You are using a high-RAM runtime!')"
      ],
      "metadata": {
        "id": "2Z0T9ECuGeVW",
        "colab": {
          "base_uri": "https://localhost:8080/"
        },
        "outputId": "0cb615aa-71d4-475d-edfc-8eb124dc233e"
      },
      "execution_count": null,
      "outputs": [
        {
          "output_type": "stream",
          "name": "stdout",
          "text": [
            "Your runtime has 27.3 gigabytes of available RAM\n",
            "\n",
            "You are using a high-RAM runtime!\n"
          ]
        }
      ]
    },
    {
      "cell_type": "code",
      "metadata": {
        "id": "k7Uth8v6cuc-",
        "colab": {
          "base_uri": "https://localhost:8080/"
        },
        "outputId": "c3149d38-56f2-4eff-bbc1-f3193dbbbc87"
      },
      "source": [
        "try:\n",
        "  %load_ext tensorboard\n",
        "  print(\"TensorBoard eklentisi kuruldu.\")\n",
        "finally:\n",
        "  %rm -rf ./logs/\n",
        "  print(\"Önceki çalıştırmalardan elde edilen günlükler temizlendi.\")"
      ],
      "execution_count": null,
      "outputs": [
        {
          "output_type": "stream",
          "name": "stdout",
          "text": [
            "TensorBoard eklentisi kuruldu.\n",
            "Önceki çalıştırmalardan elde edilen günlükler temizlendi.\n"
          ]
        }
      ]
    },
    {
      "cell_type": "code",
      "metadata": {
        "id": "J0C7QUAQCqVc",
        "colab": {
          "base_uri": "https://localhost:8080/"
        },
        "outputId": "105c3222-d92a-46ba-f10f-865d3c2c3e75"
      },
      "source": [
        "if tf.executing_eagerly():\n",
        "  print(\"İstekli çalışma modu çalışıyor.\")\n",
        "else:\n",
        "  tf.compat.v1.enable_eager_execution()\n",
        "  print(\"İstekli çalışma moduna geçildi.\")"
      ],
      "execution_count": null,
      "outputs": [
        {
          "output_type": "stream",
          "name": "stdout",
          "text": [
            "İstekli çalışma modu çalışıyor.\n"
          ]
        }
      ]
    },
    {
      "cell_type": "code",
      "metadata": {
        "id": "GGcKfdQdX5wB",
        "colab": {
          "base_uri": "https://localhost:8080/"
        },
        "outputId": "0e9f1e90-bf3b-447e-c49e-90cbe2e748d3"
      },
      "source": [
        "print(\"TensorFlow version: {}\".format(tf.__version__))\n",
        "print(\"Keras version: {}\".format(keras.__version__))\n",
        "print(\"Eager execution: {}\".format(tf.executing_eagerly()))"
      ],
      "execution_count": null,
      "outputs": [
        {
          "output_type": "stream",
          "name": "stdout",
          "text": [
            "TensorFlow version: 2.8.2\n",
            "Keras version: 2.8.0\n",
            "Eager execution: True\n"
          ]
        }
      ]
    },
    {
      "cell_type": "markdown",
      "metadata": {
        "id": "7I60tW0vL3vW"
      },
      "source": [
        "### **Verileri Yükleme**"
      ]
    },
    {
      "cell_type": "code",
      "source": [
        "# document = pd.read_csv('preparedSuDerDataset.csv')\n",
        "# document.drop(['Unnamed: 0'], axis=1, inplace=True)\n",
        "\n",
        "# news_texts = document['News']\n",
        "# title_texts = document['Title']\n",
        "\n",
        "# series_news_texts = pd.Series(news_texts)\n",
        "# series_title_texts = pd.Series(title_texts)"
      ],
      "metadata": {
        "id": "OzCs9JQh8vZU"
      },
      "execution_count": null,
      "outputs": []
    },
    {
      "cell_type": "code",
      "source": [
        "documentPre = pd.read_csv('documentRevV2_3.csv')\n",
        "documentPre.drop(['Unnamed: 0'], axis=1, inplace=True)\n",
        "document = documentPre[:125000]\n",
        "\n",
        "news_texts = document['News']\n",
        "title_texts = document['Title']\n",
        "\n",
        "series_news_texts = pd.Series(news_texts)\n",
        "series_title_texts = pd.Series(title_texts)"
      ],
      "metadata": {
        "id": "aKovwc8k32ue"
      },
      "execution_count": null,
      "outputs": []
    },
    {
      "cell_type": "code",
      "source": [
        "series_news_texts[114189]"
      ],
      "metadata": {
        "colab": {
          "base_uri": "https://localhost:8080/",
          "height": 53
        },
        "id": "AIT2AoWuV9nH",
        "outputId": "e6086436-8950-441c-ee3e-029cd08cb45f"
      },
      "execution_count": null,
      "outputs": [
        {
          "output_type": "execute_result",
          "data": {
            "text/plain": [
              "\"TÜSİAD'ın yeni yönetim kurulu Davos'ta görmeye alıştığımız bir düzende basının karşısına çıktı. Üyeler, Muharrem Yılmaz, Cansen Başaran, Haluk Dinçer, Boyner, Tayfun Bayazıt, Volkan Vural ve Mehmet Ali .Aydınlar toplantıya katıldı. Lucien Arkas, Ali Kibar ve Erman Ilıcak ilk toplantıda yoktu.\""
            ],
            "application/vnd.google.colaboratory.intrinsic+json": {
              "type": "string"
            }
          },
          "metadata": {},
          "execution_count": 47
        }
      ]
    },
    {
      "cell_type": "markdown",
      "metadata": {
        "id": "YbQqZR7fG-NZ"
      },
      "source": [
        "## **Eğitim Öncesi Ön İşlemler**\n",
        "\n",
        "\n",
        "---\n",
        "\n",
        "\n",
        "Haber ve Başlıklar için Metin Ön İşleme Aşaması\n",
        "\n",
        "Vektörizasyon, sekans uzunluklarının dolgulanması, vektörleri tensörlere dönüştürme ve dataset'in yığın halinde ayarlanması işlemleri..."
      ]
    },
    {
      "cell_type": "code",
      "metadata": {
        "id": "0Szninvjex52"
      },
      "source": [
        "with open(\"TurkishStopWords.txt\",mode=\"r\") as tsw:\n",
        "  stopWords = tsw.read()\n",
        "  stopWords = stopWords.split(\"\\n\")"
      ],
      "execution_count": null,
      "outputs": []
    },
    {
      "cell_type": "code",
      "metadata": {
        "id": "YUedXBDBU7bi"
      },
      "source": [
        "def news_preprocess(row):\n",
        "  # Sıra önemli\n",
        "  # Tarihleri silmek için (05.11.1994) (5 Kasım 1994)\n",
        "  row = re.sub(\"(([0-9]+(\\.)[0-9]+(\\.)[0-9]+)|([0-9]+.(ocak|şubat|mart|nisan|mayıs|haziran|temmuz|ağustos|eylül|ekim|kasım|aralık).[0-9]+)|([0-9]+.(ocak|şubat|mart|nisan|mayıs|haziran|temmuz|ağustos|eylül|ekim|kasım|aralık)))\\S+\", \"\", row, flags=re.IGNORECASE)\n",
        "  row=re.sub(r\"([0-9]+)\", ' ', str(row))\n",
        "  row = re.sub(\"([Hh][Aa][Bb][Ee][Rr][İi][Nn] [Dd][Ee][Vv][Aa][Mm][Iı])\\W+\",\" \",str(row)) # 'Haberin Devamı' yazan haberleri temizler \n",
        "  row=re.sub(\"([Kk]aynak: [abcçdefghıijklmnoöprsştuüvyzABCÇDEFGHIİJKLMNOÖPRSŞTUÜVYZ])\\w+\", ' ', str(row)) \n",
        "  row=re.sub(\"([İi]şte [Dd]etaylar)\\W+\", ' ', str(row))\n",
        "  row=re.sub(r\"(([ABCÇDEFGĞHIİJKLMNOÖPRSŞTUÜVYZ]{2,})+ ([ABCÇDEFGĞHIİJKLMNOÖPRSŞTUÜVYZ]{2,})+ ([ABCÇDEFGĞHIİJKLMNOÖPRSŞTUÜVYZ]{2,}))\\w+\", ' ', str(row)) # Ara başlıkları silmek için.\n",
        "  row=re.sub(r\"(([ABCÇDEFGĞHIİJKLMNOÖPRSŞTUÜVYZ]{2,})+ ([ABCÇDEFGĞHIİJKLMNOÖPRSŞTUÜVYZ]{2,}))\\w+\", ' ', str(row)) # Ara başlıkları silmek için.\n",
        "  row = re.sub(\"(İ)\",\"i\",str(row)) # Büyük İ sorunu için ASCII karşlığı yok\n",
        "  row = re.sub(\"(I)\",\"ı\",str(row)) # Büyük I sorunu için ASCII karşlığı yok\n",
        "  row=re.sub(\"(\\\\t)\", ' ', str(row)) # Tab'ları tek boşluk yapmak için\n",
        "  row=re.sub(\"(\\\\n)\", ' ', str(row))\n",
        "  row=re.sub(\"(\\\\r)\", ' ', str(row))\n",
        "  row = re.sub(\"(\\s+)\",' ',str(row)) # Birden fazla boşluğu tek boşluğa düşürmek için\n",
        "  row=re.sub(\"(__+)\", ' ', str(row))\n",
        "  row=re.sub(\"(--+)\", ' ', str(row))\n",
        "  row=re.sub(\"(~~+)\", ' ', str(row))\n",
        "  row=re.sub(\"(\\+\\++)\", ' ', str(row))\n",
        "  row=re.sub(\"(\\.\\.+)\", ' ', str(row))\n",
        "  row=re.sub(r\"[<>(){|}&©ø\\[\\]\\'\\\",;:?~*!#$%‘’+-.=@`]\", ' ', str(row)) # Karakter temizliği\n",
        "  row=re.sub(r\"[()]\\S+\", ' ', str(row)) # Parantez içini silmek için\n",
        "  # Çok sayıları tek sayı biçimine düşürmek için\n",
        "  row=re.sub(r\"([0-9]+)\", ' ', str(row))\n",
        "  # row=re.sub(\"(###)\\W+\", '### ', str(row))\n",
        "  row = re.sub(\"(\\s+)\",' ',str(row)) # Birden fazla boşluğu tek boşluğa düşürmek için\n",
        "  row=re.sub(r\"(\\s+.\\s+)\\w+\", ' ', str(row))\n",
        "  row = re.sub(\"(\\s+)\",' ',str(row))\n",
        "  row = row.strip() # Metinin sağ ve sol tarafındaki boşluğu silmek için\n",
        "  row = row.lower()\n",
        "\n",
        "  words_list = row.split()\n",
        "  filtered_stop_words = [word for word in words_list if word not in stopWords]\n",
        "  filtered_words = [word for word in filtered_stop_words if len(word)>2]\n",
        "\n",
        "  row = \" \".join(filtered_words)\n",
        "\n",
        "  return row"
      ],
      "execution_count": null,
      "outputs": []
    },
    {
      "cell_type": "code",
      "metadata": {
        "id": "IerKqYPPVAA1"
      },
      "source": [
        "def title_preprocess(row):\n",
        "  # Sıra önemli\n",
        "  row = re.sub(\"(İ)\",\"i\",str(row)) # Büyük İ sorunu için ASCII karşlığı yok\n",
        "  row = re.sub(\"(I)\",\"ı\",str(row)) # Büyük I sorunu için ASCII karşlığı yok\n",
        "  row=re.sub(\"(\\\\t)\", ' ', str(row)) # Tab'ları tek boşluk yapmak için\n",
        "  row=re.sub(\"(\\\\n)\", ' ', str(row))\n",
        "  row=re.sub(\"(\\\\r)\", ' ', str(row))\n",
        "  row = re.sub(\"(\\s+)\",' ',str(row)) # Birden fazla boşluğu tek boşluğa düşürmek için\n",
        "  row=re.sub(\"(__+)\", ' ', str(row))\n",
        "  row=re.sub(\"(--+)\", ' ', str(row))\n",
        "  row=re.sub(\"(~~+)\", ' ', str(row))\n",
        "  row=re.sub(\"(\\+\\++)\", ' ', str(row))\n",
        "  row=re.sub(\"(\\.\\.+)\", ' ', str(row))\n",
        "  row=re.sub(r\"[<>(){|}&©ø\\[\\]\\'\\\",;:?~*!#$%‘’+-.=@`]\", ' ', str(row)) # Karakter temizliği\n",
        "  row=re.sub(r\"[()]\\S+\", ' ', str(row)) # Parantez içini silmek için\n",
        "  # Çok sayıları tek sayı biçimine düşürmek için\n",
        "  row=re.sub(r\"([0-9]+)\", '###', str(row))\n",
        "  row=re.sub(\"(###)\\W+\", '### ', str(row))\n",
        "  row = re.sub(\"(\\s+)\",' ',str(row)) # Birden fazla boşluğu tek boşluğa düşürmek için\n",
        "  row=re.sub(r\"(\\s+.\\s+)\\w+\", ' ', str(row))\n",
        "  row = re.sub(\"(\\s+)\",' ',str(row))\n",
        "  row = row.strip() # Metinin sağ ve sol tarafındaki boşluğu silmek için\n",
        "  row = row.lower()\n",
        " \n",
        "  return row"
      ],
      "execution_count": null,
      "outputs": []
    },
    {
      "cell_type": "markdown",
      "metadata": {
        "id": "idM7UhL5urDb"
      },
      "source": [
        "**Dataset Train ve Validation Olarak Bölme**\n",
        "\n",
        "\n",
        "\n",
        "\n",
        "---\n",
        "\n"
      ]
    },
    {
      "cell_type": "code",
      "source": [
        "_ISTART_ = '<istart> '\n",
        "_IEND_ = ' <iend>'\n",
        "\n",
        "_TSTART_ = '<tstart> '\n",
        "_TEND_ = ' <tend>'\n",
        "\n",
        "tqdm.pandas(desc=\"Progress\")\n",
        "\n",
        "series_news_texts = series_news_texts.progress_apply(lambda x: _ISTART_ + news_preprocess(str(x)) + _IEND_).astype(str)\n",
        "series_title_texts = series_title_texts.progress_apply(lambda x: _TSTART_ + title_preprocess(str(x)) + _TEND_).astype(str)"
      ],
      "metadata": {
        "id": "DyNT97dy4RnR",
        "colab": {
          "base_uri": "https://localhost:8080/"
        },
        "outputId": "5d60e490-a6f8-4b4d-afe6-4c3f48d12d3b"
      },
      "execution_count": null,
      "outputs": [
        {
          "output_type": "stream",
          "name": "stderr",
          "text": [
            "Progress: 100%|██████████| 125000/125000 [04:05<00:00, 508.24it/s]\n",
            "Progress: 100%|██████████| 125000/125000 [00:03<00:00, 33406.54it/s]\n"
          ]
        }
      ]
    },
    {
      "cell_type": "code",
      "source": [
        "#Input ve Output'a göre vektörleri hazırlama\n",
        "encoder_maxlen = 384\n",
        "decoder_maxlen = 14\n",
        "\n",
        "short_text = []\n",
        "short_summary = []\n",
        "\n",
        "for i in range(len(series_news_texts)):\n",
        "    if(len(series_title_texts[i].split())<=decoder_maxlen and len(series_news_texts[i].split())<=encoder_maxlen):\n",
        "        short_text.append(series_news_texts[i])\n",
        "        short_summary.append(series_title_texts[i])\n",
        "\n",
        "short_text_series = pd.Series(short_text)\n",
        "short_summary_series = pd.Series(short_summary)\n",
        "\n",
        "news_train, news_validation, title_train, title_validation = train_test_split(short_text_series, short_summary_series, test_size=0.1, shuffle=False)"
      ],
      "metadata": {
        "id": "o-Gy_xf44XAK"
      },
      "execution_count": null,
      "outputs": []
    },
    {
      "cell_type": "code",
      "source": [
        "len(series_news_texts), len(short_text_series), len(series_title_texts), len(short_summary_series)"
      ],
      "metadata": {
        "colab": {
          "base_uri": "https://localhost:8080/"
        },
        "id": "oLtf1V2PI_g7",
        "outputId": "3a73baa9-db0f-452b-bfb8-4ea7f7fe7f23"
      },
      "execution_count": null,
      "outputs": [
        {
          "output_type": "execute_result",
          "data": {
            "text/plain": [
              "(125000, 115812, 125000, 115812)"
            ]
          },
          "metadata": {},
          "execution_count": 16
        }
      ]
    },
    {
      "cell_type": "code",
      "source": [
        "# news_train, news_validation, title_train, title_validation = train_test_split(series_news_texts, series_title_texts, test_size=0.1)"
      ],
      "metadata": {
        "id": "iopOA3xluymU"
      },
      "execution_count": null,
      "outputs": []
    },
    {
      "cell_type": "markdown",
      "metadata": {
        "id": "pMrgkfaYMzaw"
      },
      "source": [
        "**Metinleri tokenlere(jeton, vektör) Dönüştürme**\n",
        "\n",
        "---\n",
        "\n"
      ]
    },
    {
      "cell_type": "code",
      "metadata": {
        "id": "N35KRXEXtUOl"
      },
      "source": [
        "# '<' ve '>' varsayılan belirteçlerden kaldırılamaz. Çünkü dekoder için hedef derlemimizi bu işaretler arasına aldık\n",
        "# Gerekli olan filtreleme işlemini news_preprocess ve title_preprocess fonksionlarıyla yaptık\n",
        "filters = '!\"$%()*+,./:;=?@[\\\\]^_{|}~\\t\\n'"
      ],
      "execution_count": null,
      "outputs": []
    },
    {
      "cell_type": "code",
      "metadata": {
        "id": "qdXhzNaHsny9"
      },
      "source": [
        "#news_tokenizer = tf.keras.preprocessing.text.Tokenizer(filters=filters)\n",
        "#title_tokenizer = tf.keras.preprocessing.text.Tokenizer(filters=filters)\n",
        "news_tokenizer = keras.preprocessing.text.Tokenizer(filters=filters)\n",
        "title_tokenizer = keras.preprocessing.text.Tokenizer(filters=filters)"
      ],
      "execution_count": null,
      "outputs": []
    },
    {
      "cell_type": "code",
      "metadata": {
        "id": "CzgHX8fCll37",
        "colab": {
          "base_uri": "https://localhost:8080/"
        },
        "outputId": "ce3cc041-26b7-49d2-ff33-57fa2c2f8c03"
      },
      "source": [
        "print(\"Haber metinlerinin vektör sözlüğü oluşturuluyor...\")\n",
        "news_tokenizer.fit_on_texts(news_train)\n",
        "print(\"Haber metinlerinin vektör sözlüğü oluşturuldu.\")\n",
        "\n",
        "print(\"Haber başlıklarının vektör sözlüğü oluşturuluyor...\")\n",
        "title_tokenizer.fit_on_texts(title_train)\n",
        "# title_tokenizer.fit_on_texts(title_train)\n",
        "print(\"Haber başlıklarının vektör sözlüğü oluşturuldu.\")\n",
        "# --------------------------------------------------------------------\n",
        "# print(\"Haber metinlerinin vektör sözlüğü oluşturuluyor...\")\n",
        "# news_tokenizer.fit_on_texts(series_news_texts)\n",
        "# print(\"Haber metinlerinin vektör sözlüğü oluşturuldu.\")\n",
        "\n",
        "# print(\"Haber başlıklarının vektör sözlüğü oluşturuluyor...\")\n",
        "# news_tokenizer.fit_on_texts(series_title_texts)\n",
        "# print(\"Haber başlıklarının vektör sözlüğü oluşturuldu.\")"
      ],
      "execution_count": null,
      "outputs": [
        {
          "output_type": "stream",
          "name": "stdout",
          "text": [
            "Haber metinlerinin vektör sözlüğü oluşturuluyor...\n",
            "Haber metinlerinin vektör sözlüğü oluşturuldu.\n",
            "Haber başlıklarının vektör sözlüğü oluşturuluyor...\n",
            "Haber başlıklarının vektör sözlüğü oluşturuldu.\n"
          ]
        }
      ]
    },
    {
      "cell_type": "code",
      "metadata": {
        "id": "dZf2sju4wdvO",
        "colab": {
          "base_uri": "https://localhost:8080/"
        },
        "outputId": "ebee60c4-8fc9-494f-e636-450ed87c46c5"
      },
      "source": [
        "print(\"Haber metinleri vektörleştiriliyor...\")\n",
        "inputs = news_tokenizer.texts_to_sequences(news_train)\n",
        "print(\"Haber metinleri vektörleştirildi.\")\n",
        "\n",
        "print(\"Haber başlıkları vektörleştiriliyor...\")\n",
        "# targets = news_tokenizer.texts_to_sequences(title_train)\n",
        "targets = title_tokenizer.texts_to_sequences(title_train)\n",
        "print(\"Haber başlıkları vektörleştirildi.\")"
      ],
      "execution_count": null,
      "outputs": [
        {
          "output_type": "stream",
          "name": "stdout",
          "text": [
            "Haber metinleri vektörleştiriliyor...\n",
            "Haber metinleri vektörleştirildi.\n",
            "Haber başlıkları vektörleştiriliyor...\n",
            "Haber başlıkları vektörleştirildi.\n"
          ]
        }
      ]
    },
    {
      "cell_type": "code",
      "metadata": {
        "id": "eBG1ciE0mP4O",
        "colab": {
          "base_uri": "https://localhost:8080/"
        },
        "outputId": "d59dd0cc-1270-4657-a990-3e772972aeff"
      },
      "source": [
        "encoder_vocab_size = len(news_tokenizer.word_index) + 1 \n",
        "decoder_vocab_size = len(title_tokenizer.word_index) + 1\n",
        "# decoder_vocab_size = len(news_tokenizer.word_index) + 1\n",
        "\n",
        "print('Encoder sözlük sayısı: {}\\nDecoder sözlük sayısı: {}'.format(encoder_vocab_size, decoder_vocab_size))"
      ],
      "execution_count": null,
      "outputs": [
        {
          "output_type": "stream",
          "name": "stdout",
          "text": [
            "Encoder sözlük sayısı: 418733\n",
            "Decoder sözlük sayısı: 57317\n"
          ]
        }
      ]
    },
    {
      "cell_type": "markdown",
      "metadata": {
        "id": "BTObH43jR_iT"
      },
      "source": [
        "**Haber ve başlık metinlerinin ayrı ayrı uzunluklarını tanımlama**"
      ]
    },
    {
      "cell_type": "code",
      "metadata": {
        "id": "LWt_tqmjmWdN"
      },
      "source": [
        "# news_train_lengths = pd.Series([len(x.split()) for x in news_train])\n",
        "# title_train_lengths = pd.Series([len(x.split()) for x in title_train])\n",
        "\n",
        "# news_validation_lengths = pd.Series([len(x.split()) for x in news_validation])\n",
        "# title_validation_lengths = pd.Series([len(x.split()) for x in title_validation])"
      ],
      "execution_count": null,
      "outputs": []
    },
    {
      "cell_type": "code",
      "metadata": {
        "id": "nITLk20QPKCx"
      },
      "source": [
        "encoder_maxlen = 384\n",
        "decoder_maxlen = 14"
      ],
      "execution_count": null,
      "outputs": []
    },
    {
      "cell_type": "code",
      "metadata": {
        "id": "wSSytB5ZxbC2"
      },
      "source": [
        "inputs = tf.keras.preprocessing.sequence.pad_sequences(\n",
        "    inputs,\n",
        "    maxlen=encoder_maxlen,\n",
        "    padding='post',\n",
        "    truncating='post')\n",
        "\n",
        "targets = tf.keras.preprocessing.sequence.pad_sequences(\n",
        "    targets,\n",
        "    maxlen=decoder_maxlen,\n",
        "    padding='post',\n",
        "    truncating='post')"
      ],
      "execution_count": null,
      "outputs": []
    },
    {
      "cell_type": "code",
      "metadata": {
        "id": "oyEgdN4txbOa"
      },
      "source": [
        "# tf.cast almış olduğu x vektör dizisini (bu kod bloğunda inputs ve targets) tensör olarak döndürür. Tensörler numpy() dizileri gibi düşünülebilir\n",
        "encoder_input_data = inputs\n",
        "decoder_input_data = targets[:, :-1]\n",
        "decoder_output_data = targets[:, 1:]\n",
        "\n",
        "inputs = tf.cast(encoder_input_data, dtype=tf.int32)\n",
        "decoder_input_data = tf.cast(decoder_input_data, dtype=tf.int32)\n",
        "decoder_output_data = tf.cast(decoder_output_data, dtype=tf.int32)"
      ],
      "execution_count": null,
      "outputs": []
    },
    {
      "cell_type": "code",
      "metadata": {
        "id": "RNQfaEClxbZB"
      },
      "source": [
        "BATCH_SIZE = 256\n",
        "EMBEDDING_SIZE = 480 # Sözlük boyutu (dimension)\n",
        "STATE_SIZE = 400 # Katmanlar arası nöron sayısı"
      ],
      "execution_count": null,
      "outputs": []
    },
    {
      "cell_type": "code",
      "source": [
        "encoder_embedding = Embedding(input_dim = encoder_vocab_size, output_dim = EMBEDDING_SIZE, name = 'encoder_embedding')"
      ],
      "metadata": {
        "id": "RE4MDH8HWBwj"
      },
      "execution_count": null,
      "outputs": []
    },
    {
      "cell_type": "code",
      "source": [
        "# encoder_gru1 = GRU(STATE_SIZE, name='encoder_gru1', return_sequences = True)\n",
        "# encoder_gru2 = GRU(STATE_SIZE, name='encoder_gru2', return_sequences = True)\n",
        "# encoder_gru3 = GRU(STATE_SIZE, name='encoder_gru3', return_sequences = False)"
      ],
      "metadata": {
        "id": "-2qWe61mWTYG"
      },
      "execution_count": null,
      "outputs": []
    },
    {
      "cell_type": "code",
      "source": [
        "encoder_gru1 = CuDNNGRU(STATE_SIZE, name='encoder_gru1', return_sequences = True)\n",
        "encoder_gru2 = CuDNNGRU(STATE_SIZE, name='encoder_gru2', return_sequences = True)\n",
        "encoder_gru3 = CuDNNGRU(STATE_SIZE, name='encoder_gru3', return_sequences = False)"
      ],
      "metadata": {
        "id": "_PmIzg0Y4xNI"
      },
      "execution_count": null,
      "outputs": []
    },
    {
      "cell_type": "code",
      "source": [
        "encoder_input = Input(shape=(None,), name='encoder_input')"
      ],
      "metadata": {
        "id": "nwG1jH9qWVYx"
      },
      "execution_count": null,
      "outputs": []
    },
    {
      "cell_type": "code",
      "source": [
        "def connect_encoder():\n",
        "    net = encoder_input\n",
        "    net = encoder_embedding(net)\n",
        "    \n",
        "    net = encoder_gru1(net)\n",
        "    net = encoder_gru2(net)\n",
        "    net = encoder_gru3(net)\n",
        "    \n",
        "    encoder_output = net\n",
        "    \n",
        "    return encoder_output"
      ],
      "metadata": {
        "id": "wpIb5TNaWrOO"
      },
      "execution_count": null,
      "outputs": []
    },
    {
      "cell_type": "code",
      "source": [
        "encoder_output = connect_encoder()"
      ],
      "metadata": {
        "id": "QDadU4FjW7bs"
      },
      "execution_count": null,
      "outputs": []
    },
    {
      "cell_type": "code",
      "source": [
        "decoder_initial_state = Input(shape=(STATE_SIZE,), name='decoder_initial_size')"
      ],
      "metadata": {
        "id": "0Z0HkvKbXC3U"
      },
      "execution_count": null,
      "outputs": []
    },
    {
      "cell_type": "code",
      "source": [
        "decoder_input = Input(shape=(None,), name='decoder_input')"
      ],
      "metadata": {
        "id": "sYxB9Nv4XIH3"
      },
      "execution_count": null,
      "outputs": []
    },
    {
      "cell_type": "code",
      "source": [
        "decoder_embedding = Embedding(input_dim=decoder_vocab_size, output_dim=EMBEDDING_SIZE, name='decoder_embedding')"
      ],
      "metadata": {
        "id": "5fAJSDrUXMHl"
      },
      "execution_count": null,
      "outputs": []
    },
    {
      "cell_type": "code",
      "source": [
        "# decoder_gru1 = GRU(STATE_SIZE, name='decoder_gru1', return_sequences=True)\n",
        "# decoder_gru2 = GRU(STATE_SIZE, name='decoder_gru2', return_sequences=True)\n",
        "# decoder_gru3 = GRU(STATE_SIZE, name='decoder_gru3', return_sequences=True) "
      ],
      "metadata": {
        "id": "rOzz8iDRaapS"
      },
      "execution_count": null,
      "outputs": []
    },
    {
      "cell_type": "code",
      "source": [
        "decoder_gru1 = CuDNNGRU(STATE_SIZE, name='decoder_gru1', return_sequences=True)\n",
        "decoder_gru2 = CuDNNGRU(STATE_SIZE, name='decoder_gru2', return_sequences=True)\n",
        "decoder_gru3 = CuDNNGRU(STATE_SIZE, name='decoder_gru3', return_sequences=True)"
      ],
      "metadata": {
        "id": "y4voL4nR42gF"
      },
      "execution_count": null,
      "outputs": []
    },
    {
      "cell_type": "code",
      "source": [
        "decoder_dense = Dense(decoder_vocab_size, activation='linear', name='decoder_output')"
      ],
      "metadata": {
        "id": "wCP0Gx11ahiv"
      },
      "execution_count": null,
      "outputs": []
    },
    {
      "cell_type": "code",
      "source": [
        "def connect_decoder(initial_state):\n",
        "    net = decoder_input\n",
        "    \n",
        "    net = decoder_embedding(net)\n",
        "    \n",
        "    net = decoder_gru1(net, initial_state=initial_state)\n",
        "    net = decoder_gru2(net, initial_state=initial_state)\n",
        "    net = decoder_gru3(net, initial_state=initial_state)\n",
        "    \n",
        "    decoder_output = decoder_dense(net)\n",
        "    \n",
        "    return decoder_output"
      ],
      "metadata": {
        "id": "Br_w56bLajUi"
      },
      "execution_count": null,
      "outputs": []
    },
    {
      "cell_type": "code",
      "source": [
        "decoder_output = connect_decoder(initial_state=encoder_output)"
      ],
      "metadata": {
        "id": "5S2E5wkuaszE"
      },
      "execution_count": null,
      "outputs": []
    },
    {
      "cell_type": "code",
      "source": [
        "model_train = Model(inputs=[encoder_input, decoder_input], outputs=[decoder_output])"
      ],
      "metadata": {
        "id": "8fEhVM6ha7MI"
      },
      "execution_count": null,
      "outputs": []
    },
    {
      "cell_type": "code",
      "source": [
        "model_encoder = Model(inputs=[encoder_input], outputs=[encoder_output])"
      ],
      "metadata": {
        "id": "Z-JOPbhVuajx"
      },
      "execution_count": null,
      "outputs": []
    },
    {
      "cell_type": "code",
      "source": [
        "decoder_output = connect_decoder(initial_state=decoder_initial_state)\n",
        "\n",
        "model_decoder = Model(inputs=[decoder_input, decoder_initial_state], outputs=[decoder_output])"
      ],
      "metadata": {
        "id": "Ca8asbgBucLp"
      },
      "execution_count": null,
      "outputs": []
    },
    {
      "cell_type": "code",
      "source": [
        "def sparse_cross_entropy(y_true, y_pred):\n",
        "    loss = tf.nn.sparse_softmax_cross_entropy_with_logits(labels=y_true, logits=y_pred)\n",
        "    loss_mean = tf.reduce_mean(loss)\n",
        "    return loss_mean"
      ],
      "metadata": {
        "id": "CsFFAL2PucpH"
      },
      "execution_count": null,
      "outputs": []
    },
    {
      "cell_type": "code",
      "source": [
        "optimizer = tf.keras.optimizers.Adam(learning_rate=0.001, beta_1=0.9, beta_2=0.98, epsilon=1e-9)"
      ],
      "metadata": {
        "id": "Rw2lMjnSucwo"
      },
      "execution_count": null,
      "outputs": []
    },
    {
      "cell_type": "code",
      "source": [
        "model_train.compile(optimizer=optimizer, loss=sparse_cross_entropy, metrics=['accuracy'], run_eagerly=True)"
      ],
      "metadata": {
        "id": "toO5mFzZumM9"
      },
      "execution_count": null,
      "outputs": []
    },
    {
      "cell_type": "code",
      "source": [
        "checkpoint_path = \"checkpoints/rev2/gru/metrics/train/\"\n",
        "checkpoint = ModelCheckpoint(filepath=checkpoint_path, save_weights_only=True)"
      ],
      "metadata": {
        "id": "7FxhbvqQuve0"
      },
      "execution_count": null,
      "outputs": []
    },
    {
      "cell_type": "code",
      "source": [
        "latest = tf.train.latest_checkpoint(checkpoint_path)"
      ],
      "metadata": {
        "id": "tmApmSaCW5jF"
      },
      "execution_count": null,
      "outputs": []
    },
    {
      "cell_type": "code",
      "source": [
        "try:\n",
        "    model_train.load_weights(checkpoint_path)\n",
        "except Exception as error:\n",
        "    print('Checkpoint yüklenirken hata oluştu. Eğitime başlanıyor...\\n')\n",
        "    print(error)"
      ],
      "metadata": {
        "id": "Ydxv97ykvElG",
        "colab": {
          "base_uri": "https://localhost:8080/"
        },
        "outputId": "cffa0d9b-bcfb-48cb-f7a4-3455431f2093"
      },
      "execution_count": null,
      "outputs": [
        {
          "output_type": "stream",
          "name": "stdout",
          "text": [
            "Checkpoint yüklenirken hata oluştu. Eğitime başlanıyor...\n",
            "\n",
            "Unsuccessful TensorSliceReader constructor: Failed to find any matching files for checkpoints/rev2/gru/metrics/train/\n"
          ]
        }
      ]
    },
    {
      "cell_type": "code",
      "source": [
        "# model_train.load_weights(checkpoint_path)"
      ],
      "metadata": {
        "id": "qwghFbsFUYX2"
      },
      "execution_count": null,
      "outputs": []
    },
    {
      "cell_type": "code",
      "source": [
        "x_data = {'encoder_input':inputs, 'decoder_input':decoder_input_data}\n",
        "y_data = {'decoder_output':decoder_output_data}"
      ],
      "metadata": {
        "id": "fm4Q3ktFylLD"
      },
      "execution_count": null,
      "outputs": []
    },
    {
      "cell_type": "code",
      "source": [
        "callbacks = tf.keras.callbacks.TensorBoard(log_dir='checkpoints/rev2/gru/metrics', histogram_freq=1, write_graph=True, write_images=False, update_freq='epoch', profile_batch=2, embeddings_freq=1, embeddings_metadata=None)"
      ],
      "metadata": {
        "id": "RiTjD8_wyyYY"
      },
      "execution_count": null,
      "outputs": []
    },
    {
      "cell_type": "code",
      "source": [
        "# cp_callback = tf.keras.callbacks.ModelCheckpoint(filepath=checkpoint_path,save_weights_only=True,verbose=1)"
      ],
      "metadata": {
        "id": "W7GxTKXYVmQY"
      },
      "execution_count": null,
      "outputs": []
    },
    {
      "cell_type": "code",
      "source": [
        "# model_train.save_weights(checkpoint_path.format(epoch=0))"
      ],
      "metadata": {
        "id": "s4VSaeu5WTPJ"
      },
      "execution_count": null,
      "outputs": []
    },
    {
      "cell_type": "code",
      "source": [
        "print(latest)"
      ],
      "metadata": {
        "id": "NjI_JuYqW9ZQ",
        "colab": {
          "base_uri": "https://localhost:8080/"
        },
        "outputId": "64c9229c-ab1c-479b-f87e-28933cb42fd1"
      },
      "execution_count": null,
      "outputs": [
        {
          "output_type": "stream",
          "name": "stdout",
          "text": [
            "None\n"
          ]
        }
      ]
    },
    {
      "cell_type": "code",
      "source": [
        "model_train.summary()"
      ],
      "metadata": {
        "id": "sL1VkZZdy_J3",
        "colab": {
          "base_uri": "https://localhost:8080/"
        },
        "outputId": "81588bd2-6127-49ec-b4b5-7e91617c1768"
      },
      "execution_count": null,
      "outputs": [
        {
          "output_type": "stream",
          "name": "stdout",
          "text": [
            "Model: \"model\"\n",
            "__________________________________________________________________________________________________\n",
            "Layer (type)                    Output Shape         Param #     Connected to                     \n",
            "==================================================================================================\n",
            "encoder_input (InputLayer)      [(None, None)]       0                                            \n",
            "__________________________________________________________________________________________________\n",
            "encoder_embedding (Embedding)   (None, None, 480)    200991840   encoder_input[0][0]              \n",
            "__________________________________________________________________________________________________\n",
            "encoder_gru1 (CuDNNGRU)         (None, None, 400)    1058400     encoder_embedding[0][0]          \n",
            "__________________________________________________________________________________________________\n",
            "decoder_input (InputLayer)      [(None, None)]       0                                            \n",
            "__________________________________________________________________________________________________\n",
            "encoder_gru2 (CuDNNGRU)         (None, None, 400)    962400      encoder_gru1[0][0]               \n",
            "__________________________________________________________________________________________________\n",
            "decoder_embedding (Embedding)   (None, None, 480)    27512160    decoder_input[0][0]              \n",
            "__________________________________________________________________________________________________\n",
            "encoder_gru3 (CuDNNGRU)         (None, 400)          962400      encoder_gru2[0][0]               \n",
            "__________________________________________________________________________________________________\n",
            "decoder_gru1 (CuDNNGRU)         (None, None, 400)    1058400     decoder_embedding[0][0]          \n",
            "                                                                 encoder_gru3[0][0]               \n",
            "__________________________________________________________________________________________________\n",
            "decoder_gru2 (CuDNNGRU)         (None, None, 400)    962400      decoder_gru1[0][0]               \n",
            "                                                                 encoder_gru3[0][0]               \n",
            "__________________________________________________________________________________________________\n",
            "decoder_gru3 (CuDNNGRU)         (None, None, 400)    962400      decoder_gru2[0][0]               \n",
            "                                                                 encoder_gru3[0][0]               \n",
            "__________________________________________________________________________________________________\n",
            "decoder_output (Dense)          (None, None, 57317)  22984117    decoder_gru3[0][0]               \n",
            "==================================================================================================\n",
            "Total params: 257,454,517\n",
            "Trainable params: 257,454,517\n",
            "Non-trainable params: 0\n",
            "__________________________________________________________________________________________________\n"
          ]
        }
      ]
    },
    {
      "cell_type": "code",
      "source": [
        "# model_train = keras.models.load_model('./checkpoints/rev2/gru/metrics/train/keras_embedding.ckpt-24.data-00000-of-00001')"
      ],
      "metadata": {
        "id": "36vPjUqFLuBs"
      },
      "execution_count": null,
      "outputs": []
    },
    {
      "cell_type": "code",
      "source": [
        "# !ls"
      ],
      "metadata": {
        "id": "cvdzK63RQC2M"
      },
      "execution_count": null,
      "outputs": []
    },
    {
      "cell_type": "code",
      "source": [
        "history = model_train.fit(x=x_data, y=y_data, batch_size=BATCH_SIZE, epochs=25, callbacks=callbacks)"
      ],
      "metadata": {
        "id": "_LMrKBa9zKV0",
        "colab": {
          "base_uri": "https://localhost:8080/"
        },
        "outputId": "7226ec1b-c07b-4363-83e2-8ad3a1a85371"
      },
      "execution_count": null,
      "outputs": [
        {
          "output_type": "stream",
          "name": "stdout",
          "text": [
            "Epoch 1/25\n",
            "408/408 [==============================] - 1197s 3s/step - loss: 4.6313 - accuracy: 0.5532\n",
            "Epoch 2/25\n",
            "408/408 [==============================] - 1195s 3s/step - loss: 3.4193 - accuracy: 0.6156\n",
            "Epoch 3/25\n",
            "408/408 [==============================] - 1192s 3s/step - loss: 3.2439 - accuracy: 0.6230\n",
            "Epoch 4/25\n",
            "408/408 [==============================] - 1197s 3s/step - loss: 2.9560 - accuracy: 0.6363\n",
            "Epoch 5/25\n",
            "408/408 [==============================] - 1195s 3s/step - loss: 2.7068 - accuracy: 0.6472\n",
            "Epoch 6/25\n",
            "408/408 [==============================] - 1193s 3s/step - loss: 2.5043 - accuracy: 0.6572\n",
            "Epoch 7/25\n",
            "408/408 [==============================] - 1193s 3s/step - loss: 2.3326 - accuracy: 0.6658\n",
            "Epoch 8/25\n",
            "408/408 [==============================] - 1193s 3s/step - loss: 2.1632 - accuracy: 0.6760\n",
            "Epoch 9/25\n",
            "408/408 [==============================] - 1193s 3s/step - loss: 2.0128 - accuracy: 0.6858\n",
            "Epoch 10/25\n",
            "408/408 [==============================] - 1197s 3s/step - loss: 1.8720 - accuracy: 0.6961\n",
            "Epoch 11/25\n",
            "408/408 [==============================] - 1198s 3s/step - loss: 1.7382 - accuracy: 0.7083\n",
            "Epoch 12/25\n",
            "408/408 [==============================] - 1194s 3s/step - loss: 1.6091 - accuracy: 0.7220\n",
            "Epoch 13/25\n",
            "408/408 [==============================] - 1193s 3s/step - loss: 1.4902 - accuracy: 0.7369\n",
            "Epoch 14/25\n",
            "408/408 [==============================] - 1199s 3s/step - loss: 1.3811 - accuracy: 0.7516\n",
            "Epoch 15/25\n",
            "408/408 [==============================] - 1202s 3s/step - loss: 1.2735 - accuracy: 0.7672\n",
            "Epoch 16/25\n",
            "408/408 [==============================] - 1199s 3s/step - loss: 1.1809 - accuracy: 0.7817\n",
            "Epoch 17/25\n",
            "408/408 [==============================] - 1196s 3s/step - loss: 1.0890 - accuracy: 0.7962\n",
            "Epoch 18/25\n",
            "408/408 [==============================] - 1191s 3s/step - loss: 1.0023 - accuracy: 0.8109\n",
            "Epoch 19/25\n",
            "408/408 [==============================] - 1187s 3s/step - loss: 0.9257 - accuracy: 0.8244\n",
            "Epoch 20/25\n",
            "408/408 [==============================] - 1185s 3s/step - loss: 0.8523 - accuracy: 0.8370\n",
            "Epoch 21/25\n",
            "408/408 [==============================] - 1185s 3s/step - loss: 0.7855 - accuracy: 0.8490\n",
            "Epoch 22/25\n",
            "408/408 [==============================] - 1184s 3s/step - loss: 0.7201 - accuracy: 0.8611\n",
            "Epoch 23/25\n",
            "408/408 [==============================] - 1183s 3s/step - loss: 0.6604 - accuracy: 0.8722\n",
            "Epoch 24/25\n",
            "408/408 [==============================] - 1182s 3s/step - loss: 0.6090 - accuracy: 0.8818\n",
            "Epoch 25/25\n",
            "408/408 [==============================] - 1180s 3s/step - loss: 0.5576 - accuracy: 0.8923\n"
          ]
        }
      ]
    },
    {
      "cell_type": "code",
      "source": [
        "model_train.save(checkpoint_path)\n",
        "print(\"{}. Epoch Model Kaydedildi...\".format(i+1))"
      ],
      "metadata": {
        "id": "I_CF_W6lNYXO"
      },
      "execution_count": null,
      "outputs": []
    },
    {
      "cell_type": "code",
      "source": [
        "from matplotlib import pyplot\n",
        "pyplot.plot(history.history['loss'], label='train')\n",
        "# pyplot.plot(history.history['val_loss'], label='test')\n",
        "pyplot.legend()\n",
        "pyplot.show()"
      ],
      "metadata": {
        "id": "UkCJCZCsLdj5",
        "colab": {
          "base_uri": "https://localhost:8080/",
          "height": 266
        },
        "outputId": "68d1ed2b-70c7-4b11-97f0-70cd4ee2616b"
      },
      "execution_count": null,
      "outputs": [
        {
          "output_type": "display_data",
          "data": {
            "text/plain": [
              "<Figure size 432x288 with 1 Axes>"
            ],
            "image/png": "[encoded data removed]"
          },
          "metadata": {
            "needs_background": "light"
          }
        }
      ]
    },
    {
      "cell_type": "code",
      "source": [
        "# x_val_seq   =  news_tokenizer.texts_to_sequences(news_validation)\n",
        "# #padding zero upto maximum length\n",
        "# x_val   =   pad_sequences(x_val_seq, maxlen=encoder_maxlen, padding='post')\n",
        "\n",
        "# #size of vocabulary ( +1 for padding token)\n",
        "# x_voc   =  len(news_tokenizer.word_counts)+1\n",
        "\n",
        "# print(\"Size of vocabulary in X = {}\".format(x_voc))\n",
        "\n",
        "# #prepare a tokenizer for reviews on training data\n",
        "# #convert text sequences into integer sequences (i.e one hot encode the text in Y)\n",
        "# y_val_seq   =   title_tokenizer.texts_to_sequences(title_validation) \n",
        "\n",
        "# #padding zero upto maximum length\n",
        "# y_val   =   pad_sequences(y_val_seq, maxlen=decoder_maxlen, padding='post')\n",
        "\n",
        "# #size of vocabulary\n",
        "# y_voc  =   len(title_tokenizer.word_counts)+1\n",
        "# print(\"Size of vocabulary in Y = {}\".format(y_voc))"
      ],
      "metadata": {
        "id": "vJMKStOztByn"
      },
      "execution_count": null,
      "outputs": []
    },
    {
      "cell_type": "code",
      "source": [
        "# inputs_val = tf.keras.preprocessing.sequence.pad_sequences(\n",
        "#     x_val,\n",
        "#     maxlen=encoder_maxlen,\n",
        "#     padding='post',\n",
        "#     truncating='post')\n",
        "\n",
        "# targets_val = tf.keras.preprocessing.sequence.pad_sequences(\n",
        "#     y_val,\n",
        "#     maxlen=decoder_maxlen,\n",
        "#     padding='post',\n",
        "#     truncating='post')\n",
        "\n",
        "# encoder_input_data_val = inputs_val\n",
        "# decoder_input_data_val = targets_val[:, :-1]\n",
        "# decoder_output_data_val = targets_val[:, 1:]\n",
        "\n",
        "# inputs_val = tf.cast(encoder_input_data_val, dtype=tf.int32)\n",
        "# decoder_input_data_val = tf.cast(decoder_input_data_val, dtype=tf.int32)\n",
        "# decoder_output_data_val = tf.cast(decoder_output_data_val, dtype=tf.int32)\n",
        "\n",
        "# x_data_val = {'encoder_input_val':inputs_val, 'decoder_input_val':decoder_input_data_val}\n",
        "# y_data_val = {'decoder_output_val':decoder_output_data_val}"
      ],
      "metadata": {
        "id": "nKsixAEJt68j"
      },
      "execution_count": null,
      "outputs": []
    },
    {
      "cell_type": "code",
      "source": [
        "# loss, accuracy = model_train.evaluate(x_val,y_val)\n",
        "# print(f\"Accuracy: {accuracy * 100:.2f}%\")\n",
        "# print(f\"Loss: {loss * 100:.2f}%\")"
      ],
      "metadata": {
        "id": "FgrCHnl8LfW3"
      },
      "execution_count": null,
      "outputs": []
    },
    {
      "cell_type": "code",
      "metadata": {
        "id": "Gbzc4eaJTV6K"
      },
      "source": [
        "history_dict = history.history"
      ],
      "execution_count": null,
      "outputs": []
    },
    {
      "cell_type": "code",
      "metadata": {
        "id": "q0PSnEWrEgbk",
        "colab": {
          "base_uri": "https://localhost:8080/",
          "height": 295
        },
        "outputId": "3418283a-77ae-4f48-c1b5-ca1d1bc02e0e"
      },
      "source": [
        "loss_values = history_dict['loss']\n",
        "# val_loss_values = history_dict['val_loss']\n",
        "\n",
        "epochs = range(1, len(loss_values)+1)\n",
        "\n",
        "plt.plot(epochs, loss_values,'b',label='Eğitim Kaybı')#bo mavi nokta için\n",
        "# plt.plot(epochs, val_loss_values, 'b', label='Doğruluk Kaybı')#b mavi düz çizgi için\n",
        "plt.title('Eğitim ve Doğruluk Kaybı')\n",
        "plt.xlabel('Epoklar')\n",
        "plt.ylabel('Kayıp')\n",
        "plt.legend()\n",
        "\n",
        "plt.show()"
      ],
      "execution_count": null,
      "outputs": [
        {
          "output_type": "display_data",
          "data": {
            "text/plain": [
              "<Figure size 432x288 with 1 Axes>"
            ],
            "image/png": "[encoded data removed]"
          },
          "metadata": {
            "needs_background": "light"
          }
        }
      ]
    },
    {
      "cell_type": "code",
      "metadata": {
        "id": "9jinBiYCF7VM",
        "colab": {
          "base_uri": "https://localhost:8080/",
          "height": 295
        },
        "outputId": "cb771001-d28c-4038-88f2-0d38bb4230d2"
      },
      "source": [
        "plt.clf()#Şekli temizler\n",
        "\n",
        "acc = history_dict['accuracy']\n",
        "# val_acc = history_dict['val_acc']\n",
        "\n",
        "plt.plot(epochs, acc,'b',label='Eğitim Başarımı')#bo mavi nokta için\n",
        "# plt.plot(epochs, val_acc, 'b', label='Doğruluk Başarımı')#b mavi düz çizgi için\n",
        "plt.title('Eğitim ve Doğruluk Başarımı')\n",
        "plt.xlabel('Epoklar')\n",
        "plt.ylabel('Başarım')\n",
        "plt.legend()\n",
        "\n",
        "plt.show()"
      ],
      "execution_count": null,
      "outputs": [
        {
          "output_type": "display_data",
          "data": {
            "text/plain": [
              "<Figure size 432x288 with 1 Axes>"
            ],
            "image/png": "[encoded data removed]"
          },
          "metadata": {
            "needs_background": "light"
          }
        }
      ]
    },
    {
      "cell_type": "markdown",
      "source": [
        "## **Değerlendirme**"
      ],
      "metadata": {
        "id": "yPARSGVESwJN"
      }
    },
    {
      "cell_type": "code",
      "metadata": {
        "id": "HlsXl7OC6lMU"
      },
      "source": [
        "token_start = title_tokenizer.word_index[_TSTART_.strip()]\n",
        "token_end = title_tokenizer.word_index[_TEND_.strip()]"
      ],
      "execution_count": null,
      "outputs": []
    },
    {
      "cell_type": "code",
      "metadata": {
        "id": "IwPqsXWddKQf"
      },
      "source": [
        "def generate(input_text, true_output_text=None):\n",
        "\n",
        "  input_tokens = news_tokenizer.texts_to_sequences([input_text])\n",
        "  input_tokens = np.array(input_tokens)\n",
        "\n",
        "  initial_state = model_encoder.predict(input_tokens)\n",
        "\n",
        "  decoder_input_data = np.zeros(shape=(1,decoder_maxlen), dtype=np.int32)\n",
        "\n",
        "  token_int = token_start\n",
        "  output_text=' '\n",
        "  count_tokens=0\n",
        "\n",
        "  while token_int != token_end and count_tokens < decoder_maxlen:\n",
        "    decoder_input_data[0, count_tokens] = token_int\n",
        "    x_data = {'decoder_input':decoder_input_data, 'decoder_initial_size':initial_state}\n",
        "\n",
        "    decoder_output = model_decoder.predict(x_data)\n",
        "\n",
        "    token_onehot = decoder_output[0, count_tokens,:]\n",
        "    token_int = np.argmax(token_onehot)\n",
        "\n",
        "    sample_word = title_tokenizer.index_word[token_int]\n",
        "    output_text += ' '+sample_word\n",
        "    count_tokens+= 1\n",
        "\n",
        "  # print('Girdi:')\n",
        "  # print(input_text)\n",
        "  # print()\n",
        "\n",
        "  # print('Üretililen Başlık:')\n",
        "  # print(output_text)\n",
        "  # print()\n",
        "\n",
        "  # print('Gerçek Başlık:')\n",
        "  # print(true_output_text)\n",
        "  # print()\n",
        "\n",
        "  return output_text"
      ],
      "execution_count": null,
      "outputs": []
    },
    {
      "cell_type": "code",
      "source": [
        "# token_int = token_start\n",
        "# count_tokens = 0"
      ],
      "metadata": {
        "id": "hYlu-2wUbDM1"
      },
      "execution_count": null,
      "outputs": []
    },
    {
      "cell_type": "code",
      "source": [
        "print(title_tokenizer.word_index[\"<tstart> \".strip()])\n",
        "print(title_tokenizer.word_index[\"<tend> \".strip()])"
      ],
      "metadata": {
        "id": "UvhMASNvbRAo"
      },
      "execution_count": null,
      "outputs": []
    },
    {
      "cell_type": "code",
      "source": [
        "# sample_word = title_tokenizer.index_word[token_int]"
      ],
      "metadata": {
        "id": "vMtbKZs-beSZ"
      },
      "execution_count": null,
      "outputs": []
    },
    {
      "cell_type": "code",
      "source": [
        "# token_onehot = decoder_output[0, count_tokens,:]\n",
        "# token_int = np.argmax(token_onehot)"
      ],
      "metadata": {
        "id": "v3aKh5wJbp0j"
      },
      "execution_count": null,
      "outputs": []
    },
    {
      "cell_type": "code",
      "source": [
        "news_val = []\n",
        "\n",
        "for i, news_v in enumerate(news_validation):\n",
        "  temp=str(news_v)\n",
        "  news_val.append(temp)\n",
        "  \n",
        "news_val"
      ],
      "metadata": {
        "id": "NQ4JPp7_bYsY"
      },
      "execution_count": null,
      "outputs": []
    },
    {
      "cell_type": "code",
      "source": [
        "title_val = []\n",
        "\n",
        "for i, title_v in enumerate(title_validation):\n",
        "  temp=str(title_v)\n",
        "  title_val.append(temp)\n",
        "  \n",
        "title_val"
      ],
      "metadata": {
        "id": "npZT_rzdesAW"
      },
      "execution_count": null,
      "outputs": []
    },
    {
      "cell_type": "code",
      "source": [
        "generated_titles.clear()"
      ],
      "metadata": {
        "id": "NHQvvHg-fyWU"
      },
      "execution_count": null,
      "outputs": []
    },
    {
      "cell_type": "code",
      "source": [
        "generated_titles = []\n",
        "\n",
        "for i in range(len(news_val)):\n",
        "  generated_title = generate(news_val[i], title_val[i])\n",
        "  generated_titles.append(str(generated_title))"
      ],
      "metadata": {
        "id": "5h3UbZ4r5Ql2"
      },
      "execution_count": null,
      "outputs": []
    },
    {
      "cell_type": "code",
      "source": [
        "news_val_series = pd.Series(news_val)\n",
        "title_val_series = pd.Series(title_val)\n",
        "genererated_titles_series = pd.Series(generated_titles)"
      ],
      "metadata": {
        "id": "-6kYK7ltfCdd"
      },
      "execution_count": null,
      "outputs": []
    },
    {
      "cell_type": "code",
      "source": [
        "dict_validation_generated = {\"News\":news_val_series , \"OriginalTitle\":title_val_series, \"Predictions\":genererated_titles_series}\n",
        "df_validation_generated = pd.DataFrame(dict_validation_generated)\n",
        "df_validation_generated.to_csv(\"GeneratedTitlesGRU.csv\")"
      ],
      "metadata": {
        "id": "UR8uk97c5fsI"
      },
      "execution_count": null,
      "outputs": []
    },
    {
      "cell_type": "code",
      "source": [
        "os.listdir()"
      ],
      "metadata": {
        "colab": {
          "base_uri": "https://localhost:8080/"
        },
        "id": "fMvnjy2bwrHd",
        "outputId": "8d897e34-3763-46f2-d42d-44b03bfcb13c"
      },
      "execution_count": null,
      "outputs": [
        {
          "output_type": "execute_result",
          "data": {
            "text/plain": [
              "['checkpoints',\n",
              " 'Documents',\n",
              " 'pureDocument_256_6.csv',\n",
              " 'train_document.csv',\n",
              " 'myMetric',\n",
              " 'ytu_kemik_news_dataset.csv',\n",
              " 'f25k.csv',\n",
              " 's25k.csv',\n",
              " 'f25k25e.csv',\n",
              " 's25k25e.csv',\n",
              " 'preparedSuDerDataset2.csv',\n",
              " 'preparedSuDerDataset.csv',\n",
              " 'TurkishStopWords.txt',\n",
              " 'dataTrainRevV2_3.csv',\n",
              " 'dataValidationRevV2_3.csv',\n",
              " 'documentRevV2_3.csv',\n",
              " 'lstm_model.h5',\n",
              " 'GeneratedTitlesGRU.csv']"
            ]
          },
          "metadata": {},
          "execution_count": 134
        }
      ]
    },
    {
      "cell_type": "code",
      "source": [
        "# dict_validation_generated = {\"News\":news_validation , \"OriginalTitle\":title_validation, \"Predictions\":generated_titles}\n",
        "# df_validation_generated = pd.DataFrame(dict_validation_generated)\n",
        "# df_validation_generated.to_csv(\"GeneratedTitlesGRU.csv\")"
      ],
      "metadata": {
        "id": "RJocEViQfYNs"
      },
      "execution_count": null,
      "outputs": []
    },
    {
      "cell_type": "code",
      "metadata": {
        "id": "Byldk3d3fyu-"
      },
      "source": [
        "index = 39546\n",
        "generate(news_texts[index],true_output_text=title_texts[index])"
      ],
      "execution_count": null,
      "outputs": []
    },
    {
      "cell_type": "markdown",
      "metadata": {
        "id": "GcPr0jGjP3kF"
      },
      "source": [
        "## **Compute Score**"
      ]
    },
    {
      "cell_type": "markdown",
      "metadata": {
        "id": "tmeVu9E93y11"
      },
      "source": [
        "### **BLEU**"
      ]
    },
    {
      "cell_type": "code",
      "metadata": {
        "id": "GmulKgj6etYA"
      },
      "source": [
        "!pip install --upgrade bleu\n",
        "from bleu import list_bleu"
      ],
      "execution_count": null,
      "outputs": []
    },
    {
      "cell_type": "markdown",
      "metadata": {
        "id": "5uRuPmwR32f7"
      },
      "source": []
    },
    {
      "cell_type": "code",
      "metadata": {
        "id": "U61vrCFUlQtW"
      },
      "source": [
        "ref = [\"\"\"thy nin yolcu sayısı ### milyona ulaştı\"\"\"]\n",
        "hyp = [\"\"\"THY yolcu sayısını 9.2 milyona çıkardı\"\"\"]"
      ],
      "execution_count": null,
      "outputs": []
    },
    {
      "cell_type": "code",
      "metadata": {
        "id": "pRcL8nizOHC6"
      },
      "source": [
        "list_bleu([ref], hyp)"
      ],
      "execution_count": null,
      "outputs": []
    },
    {
      "cell_type": "markdown",
      "metadata": {
        "id": "6PzjJaYk4CWl"
      },
      "source": [
        "\n",
        "\n",
        "---\n",
        "\n"
      ]
    },
    {
      "cell_type": "code",
      "metadata": {
        "id": "8TKNYPySlv_X"
      },
      "source": [
        "import nltk"
      ],
      "execution_count": null,
      "outputs": []
    },
    {
      "cell_type": "code",
      "metadata": {
        "id": "4VA0VvqMlGOk"
      },
      "source": [
        "hypothesis = \"### terörist etkisiz hale getirildi\".split()\n",
        "reference = title_preprocess(\"Bitlis'te 6 teröristin öldürüldüğü operasyonda çok sayıda silah mühimmat ele geçirildi\").split()\n",
        "#there may be several references\n",
        "BLEUscore = nltk.translate.bleu_score.sentence_bleu([reference], hypothesis,auto_reweigh=True)\n",
        "print(BLEUscore*100)"
      ],
      "execution_count": null,
      "outputs": []
    },
    {
      "cell_type": "markdown",
      "metadata": {
        "id": "MaI_pZ_dQas1"
      },
      "source": [
        "\n",
        "\n",
        "---\n",
        "\n"
      ]
    },
    {
      "cell_type": "code",
      "metadata": {
        "id": "u825Q0MAQ3nW"
      },
      "source": [
        "# two references for one document\n",
        "from nltk.translate.bleu_score import corpus_bleu\n",
        "references = [[\"\".split()]]\n",
        "candidates = [\"\".split(), \"\".split()]\n",
        "score = corpus_bleu(references, candidates)\n",
        "print(score)"
      ],
      "execution_count": null,
      "outputs": []
    },
    {
      "cell_type": "markdown",
      "metadata": {
        "id": "Au7New1G38qR"
      },
      "source": [
        "### **ROUGE**"
      ]
    },
    {
      "cell_type": "code",
      "metadata": {
        "id": "r-yiF5xP9sq7"
      },
      "source": [
        "!pip install 0 0 "
      ],
      "execution_count": null,
      "outputs": []
    },
    {
      "cell_type": "code",
      "metadata": {
        "id": "rzcvzawjjEJH"
      },
      "source": [
        "from rouge_metric import PyRouge"
      ],
      "execution_count": null,
      "outputs": []
    },
    {
      "cell_type": "markdown",
      "metadata": {
        "id": "mZQ4057r97Ox"
      },
      "source": [
        "By default, sentences are separated by '\\n' and tokens are separated by white space in a document. This tokenization process can be further customized. For example,"
      ]
    },
    {
      "cell_type": "code",
      "metadata": {
        "id": "GwrwbETi99fn"
      },
      "source": [
        "# # Template\n",
        "# from rouge_metric import PyRouge\n",
        "\n",
        "# # Pre-process and tokenize the summaries as you like\n",
        "# hypotheses = [\n",
        "#     ['how are you'.split(), 'i am fine'.split()],                       # document 1: hypothesis\n",
        "#     ['it is fine today'.split(), 'we won the football game'.split()],   # document 2: hypothesis\n",
        "# ]\n",
        "# references = [[\n",
        "#     ['how do you do'.split(), 'fine thanks'.split()],   # document 1: reference 1\n",
        "#     ['how old are you'.split(), 'i am three'.split()],  # document 1: reference 2\n",
        "# ], [\n",
        "#     ['it is sunny today'.split(), 'let us go for a walk'.split()],  # document 2: reference 1\n",
        "#     ['it is a terrible day'.split(), 'we lost the game'.split()],   # document 2: reference 2\n",
        "# ]]\n",
        "\n",
        "# # Evaluate on tokenized documents\n",
        "# rouge = PyRouge(rouge_n=(1, 2, 4), rouge_l=True, rouge_w=True,\n",
        "#                 rouge_w_weight=1.2, rouge_s=True, rouge_su=True, skip_gap=4)\n",
        "# scores = rouge.evaluate_tokenized(hypotheses, references)\n",
        "# print(scores)"
      ],
      "execution_count": null,
      "outputs": []
    },
    {
      "cell_type": "code",
      "metadata": {
        "id": "AgkWFSYBjrmm"
      },
      "source": [
        "# hypotheses = [\"kavga ### can alan maganda vurdu\".split()]\n",
        "# references = [\"Kavga sebebi sudan faturası ise iki can\".split()]"
      ],
      "execution_count": null,
      "outputs": []
    },
    {
      "cell_type": "code",
      "metadata": {
        "id": "zz8QqATdkQ5s"
      },
      "source": [
        "# print(hypotheses)\n",
        "# print(references)"
      ],
      "execution_count": null,
      "outputs": []
    },
    {
      "cell_type": "code",
      "metadata": {
        "id": "XBMUse4rkXLk"
      },
      "source": [
        "# references = [title.split() for title in title_texts]"
      ],
      "execution_count": null,
      "outputs": []
    },
    {
      "cell_type": "code",
      "metadata": {
        "id": "sNJaKiFYknfT"
      },
      "source": [
        "# hypotheses20 = [generate_title(news_preprocess(news)).split() for news in news_texts]"
      ],
      "execution_count": null,
      "outputs": []
    },
    {
      "cell_type": "code",
      "metadata": {
        "colab": {
          "background_save": true
        },
        "id": "O6m4e0_FIvI7"
      },
      "source": [
        "# hypotheses20 = news_texts.progress_apply(lambda x: generate_title(news_preprocess(str(x))) if i < range(25000))"
      ],
      "execution_count": null,
      "outputs": []
    },
    {
      "cell_type": "code",
      "metadata": {
        "id": "kJwL6Kkc1Kgd"
      },
      "source": [
        "hypotheses25 = []\n",
        "references = []\n",
        "\n",
        "# tqdm.pandas(desc=\"Progress\")\n",
        "# for i in tqdm(range(25000,52489)):\n",
        "#   hypotheses20.append(generate_title(news_preprocess(news_texts[i])).split())\n",
        "#   references.append(title_texts[i].split())"
      ],
      "execution_count": null,
      "outputs": []
    },
    {
      "cell_type": "code",
      "metadata": {
        "id": "wSQtV6eY4Vnc"
      },
      "source": [
        "dict_rouge = {\"Tahmin - 25 Epoch\":hypotheses25}"
      ],
      "execution_count": null,
      "outputs": []
    },
    {
      "cell_type": "code",
      "metadata": {
        "id": "gIKZjKttVQZ0"
      },
      "source": [
        "df = pd.DataFrame(dict_rouge)"
      ],
      "execution_count": null,
      "outputs": []
    },
    {
      "cell_type": "code",
      "metadata": {
        "id": "5mIljRtUVbpC"
      },
      "source": [
        "df.to_csv(\"s25k25e.csv\")"
      ],
      "execution_count": null,
      "outputs": []
    },
    {
      "cell_type": "code",
      "metadata": {
        "id": "Chsb1eB5VgkC"
      },
      "source": [
        "for i in tqdm(range(25000,52489)):\n",
        "  hypotheses25.append(generate_title(news_preprocess(news_texts[i])))"
      ],
      "execution_count": null,
      "outputs": []
    }
  ]
}